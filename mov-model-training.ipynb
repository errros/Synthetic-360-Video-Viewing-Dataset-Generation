{
 "cells": [
  {
   "cell_type": "code",
   "execution_count": 2,
   "id": "45726209",
   "metadata": {},
   "outputs": [],
   "source": [
    "import pandas as pd\n",
    "from sklearn.model_selection import train_test_split\n"
   ]
  },
  {
   "cell_type": "code",
   "execution_count": 3,
   "id": "2c37b472",
   "metadata": {},
   "outputs": [
    {
     "name": "stdout",
     "output_type": "stream",
     "text": [
      "WARNING:tensorflow:From C:\\Users\\HP\\AppData\\Local\\Temp\\ipykernel_15960\\1194735536.py:4: is_gpu_available (from tensorflow.python.framework.test_util) is deprecated and will be removed in a future version.\n",
      "Instructions for updating:\n",
      "Use `tf.config.list_physical_devices('GPU')` instead.\n",
      "GPU is NOT available for TensorFlow\n"
     ]
    }
   ],
   "source": [
    "import tensorflow as tf\n",
    "\n",
    "# Check TensorFlow GPU availability\n",
    "if tf.test.is_gpu_available(cuda_only=False, min_cuda_compute_capability=None):\n",
    "    print(\"GPU is available for TensorFlow\")\n",
    "else:\n",
    "    print(\"GPU is NOT available for TensorFlow\")"
   ]
  },
  {
   "cell_type": "code",
   "execution_count": 4,
   "id": "a932906a",
   "metadata": {},
   "outputs": [
    {
     "data": {
      "text/html": [
       "<div>\n",
       "<style scoped>\n",
       "    .dataframe tbody tr th:only-of-type {\n",
       "        vertical-align: middle;\n",
       "    }\n",
       "\n",
       "    .dataframe tbody tr th {\n",
       "        vertical-align: top;\n",
       "    }\n",
       "\n",
       "    .dataframe thead th {\n",
       "        text-align: right;\n",
       "    }\n",
       "</style>\n",
       "<table border=\"1\" class=\"dataframe\">\n",
       "  <thead>\n",
       "    <tr style=\"text-align: right;\">\n",
       "      <th></th>\n",
       "      <th>X</th>\n",
       "      <th>Y</th>\n",
       "      <th>S_val</th>\n",
       "      <th>X_mov</th>\n",
       "      <th>Y_mov</th>\n",
       "    </tr>\n",
       "  </thead>\n",
       "  <tbody>\n",
       "    <tr>\n",
       "      <th>0</th>\n",
       "      <td>0.649460</td>\n",
       "      <td>0.537015</td>\n",
       "      <td>0.0</td>\n",
       "      <td>0.000000</td>\n",
       "      <td>0.000000</td>\n",
       "    </tr>\n",
       "    <tr>\n",
       "      <th>1</th>\n",
       "      <td>0.649460</td>\n",
       "      <td>0.537015</td>\n",
       "      <td>0.0</td>\n",
       "      <td>0.000000</td>\n",
       "      <td>0.000000</td>\n",
       "    </tr>\n",
       "    <tr>\n",
       "      <th>2</th>\n",
       "      <td>0.649460</td>\n",
       "      <td>0.537015</td>\n",
       "      <td>0.0</td>\n",
       "      <td>0.000000</td>\n",
       "      <td>0.000000</td>\n",
       "    </tr>\n",
       "    <tr>\n",
       "      <th>3</th>\n",
       "      <td>0.649764</td>\n",
       "      <td>0.537047</td>\n",
       "      <td>0.0</td>\n",
       "      <td>0.000304</td>\n",
       "      <td>0.000033</td>\n",
       "    </tr>\n",
       "    <tr>\n",
       "      <th>4</th>\n",
       "      <td>0.649764</td>\n",
       "      <td>0.537047</td>\n",
       "      <td>0.0</td>\n",
       "      <td>0.000000</td>\n",
       "      <td>0.000000</td>\n",
       "    </tr>\n",
       "  </tbody>\n",
       "</table>\n",
       "</div>"
      ],
      "text/plain": [
       "          X         Y  S_val     X_mov     Y_mov\n",
       "0  0.649460  0.537015    0.0  0.000000  0.000000\n",
       "1  0.649460  0.537015    0.0  0.000000  0.000000\n",
       "2  0.649460  0.537015    0.0  0.000000  0.000000\n",
       "3  0.649764  0.537047    0.0  0.000304  0.000033\n",
       "4  0.649764  0.537047    0.0  0.000000  0.000000"
      ]
     },
     "execution_count": 4,
     "metadata": {},
     "output_type": "execute_result"
    }
   ],
   "source": [
    "df = pd.read_csv('./mov-dataset.csv')\n",
    "df.head()\n"
   ]
  },
  {
   "cell_type": "code",
   "execution_count": 5,
   "id": "b0a84f10",
   "metadata": {},
   "outputs": [],
   "source": [
    "X_input = df[['X','Y','S_val']]\n",
    "Y_target = df[['X_mov','Y_mov']]"
   ]
  },
  {
   "cell_type": "code",
   "execution_count": 17,
   "id": "7c08e8d7",
   "metadata": {},
   "outputs": [],
   "source": [
    "# Splitting dataset into training and validation sets\n",
    "X_train, X_val, Y_train, Y_val = train_test_split(X_input, Y_target, test_size=0.16, random_state=42)\n"
   ]
  },
  {
   "cell_type": "code",
   "execution_count": 18,
   "id": "535af8f3",
   "metadata": {},
   "outputs": [
    {
     "data": {
      "text/plain": [
       "(990963, 2)"
      ]
     },
     "execution_count": 18,
     "metadata": {},
     "output_type": "execute_result"
    }
   ],
   "source": [
    "Y_train.shape"
   ]
  },
  {
   "cell_type": "code",
   "execution_count": 19,
   "id": "6dddf27b",
   "metadata": {},
   "outputs": [
    {
     "data": {
      "text/plain": [
       "(990963, 3)"
      ]
     },
     "execution_count": 19,
     "metadata": {},
     "output_type": "execute_result"
    }
   ],
   "source": [
    "X_train.shape"
   ]
  },
  {
   "cell_type": "code",
   "execution_count": 20,
   "id": "f282cd15",
   "metadata": {},
   "outputs": [
    {
     "data": {
      "text/plain": [
       "(188755, 2)"
      ]
     },
     "execution_count": 20,
     "metadata": {},
     "output_type": "execute_result"
    }
   ],
   "source": [
    "Y_val.shape"
   ]
  },
  {
   "cell_type": "code",
   "execution_count": 21,
   "id": "88d3730c",
   "metadata": {},
   "outputs": [],
   "source": [
    "import tensorflow as tf\n",
    "from tensorflow.keras.models import Model\n",
    "from tensorflow.keras.layers import Input, Dense\n",
    "from tensorflow.keras.optimizers import Adam\n",
    "\n",
    "# Define the model architecture\n",
    "def build_model():\n",
    "    # Input layer\n",
    "    inputs = Input(shape=(3,), name='input_layer')  # For your features X, Y, S_val\n",
    "\n",
    "    # Hidden layers\n",
    "    x = Dense(128, activation='relu', name='hidden_layer_1')(inputs)\n",
    "    x = Dense(64, activation='relu', name='hidden_layer_2')(x)\n",
    "    x = Dense(32, activation='relu', name='hidden_layer_3')(x)\n",
    "\n",
    "    # Output layer\n",
    "    outputs = Dense(2, activation='linear', name='output_layer')(x)  # For your targets X_mov, Y_mov\n",
    "\n",
    "    # Create model\n",
    "    model = Model(inputs=inputs, outputs=outputs, name='multi_output_regression_model')\n",
    "\n",
    "    return model\n"
   ]
  },
  {
   "cell_type": "code",
   "execution_count": 23,
   "id": "89b8903d",
   "metadata": {},
   "outputs": [],
   "source": [
    "from tensorflow.keras.callbacks import ModelCheckpoint\n",
    "\n",
    "# Define checkpoint callback to save only the best model based on validation loss\n",
    "model_checkpoint_callback = ModelCheckpoint(\n",
    "    filepath='./best_model.keras',  # File path to save the model\n",
    "    save_best_only=True,  # Only save the best model\n",
    "    monitor='val_loss',  # Monitor the validation loss\n",
    "    mode='min',  # 'min' means the lowest validation loss is considered the \"best\"\n",
    "    verbose=1  # Log a message when the best model is updated/saved\n",
    ")\n"
   ]
  },
  {
   "cell_type": "code",
   "execution_count": null,
   "id": "1f19693f",
   "metadata": {},
   "outputs": [
    {
     "name": "stdout",
     "output_type": "stream",
     "text": [
      "Epoch 1/2000\n",
      "\u001b[1m15474/15484\u001b[0m \u001b[32m━━━━━━━━━━━━━━━━━━━\u001b[0m\u001b[37m━\u001b[0m \u001b[1m0s\u001b[0m 1ms/step - loss: 0.0020 - mae: 0.0020 - mse: 5.6241e-04\n",
      "Epoch 1: val_loss improved from inf to 0.00183, saving model to ./best_model.keras\n",
      "\u001b[1m15484/15484\u001b[0m \u001b[32m━━━━━━━━━━━━━━━━━━━━\u001b[0m\u001b[37m\u001b[0m \u001b[1m24s\u001b[0m 1ms/step - loss: 0.0020 - mae: 0.0020 - mse: 5.6240e-04 - val_loss: 0.0018 - val_mae: 0.0018 - val_mse: 6.2546e-04\n",
      "Epoch 2/2000\n",
      "\u001b[1m15457/15484\u001b[0m \u001b[32m━━━━━━━━━━━━━━━━━━━\u001b[0m\u001b[37m━\u001b[0m \u001b[1m0s\u001b[0m 1ms/step - loss: 0.0018 - mae: 0.0018 - mse: 5.7832e-04\n",
      "Epoch 2: val_loss improved from 0.00183 to 0.00182, saving model to ./best_model.keras\n",
      "\u001b[1m15484/15484\u001b[0m \u001b[32m━━━━━━━━━━━━━━━━━━━━\u001b[0m\u001b[37m\u001b[0m \u001b[1m24s\u001b[0m 2ms/step - loss: 0.0018 - mae: 0.0018 - mse: 5.7828e-04 - val_loss: 0.0018 - val_mae: 0.0018 - val_mse: 6.2545e-04\n",
      "Epoch 3/2000\n",
      "\u001b[1m 6708/15484\u001b[0m \u001b[32m━━━━━━━━\u001b[0m\u001b[37m━━━━━━━━━━━━\u001b[0m \u001b[1m12s\u001b[0m 1ms/step - loss: 0.0018 - mae: 0.0018 - mse: 5.5133e-04"
     ]
    }
   ],
   "source": [
    "# Assuming the model has been defined and compiled as per previous instructions\n",
    "model = build_model()\n",
    "model.compile(optimizer=Adam(learning_rate=0.001),\n",
    "              loss='mae',  # Mean Squared Error\n",
    "              metrics=['mae','mse'])  # Mean Absolute Error as a metric for monitoring\n",
    "\n",
    "# Training the model\n",
    "history = model.fit(X_train, Y_train,\n",
    "                    batch_size=64,  # Adjust based on your GPU's memory\n",
    "                    epochs=2000,  # Number of epochs to train for\n",
    "                    validation_data=(X_val, Y_val),\n",
    "                    callbacks=[model_checkpoint_callback])\n"
   ]
  },
  {
   "cell_type": "code",
   "execution_count": null,
   "id": "d8848134",
   "metadata": {},
   "outputs": [],
   "source": []
  }
 ],
 "metadata": {
  "kernelspec": {
   "display_name": "Python 3 (ipykernel)",
   "language": "python",
   "name": "python3"
  },
  "language_info": {
   "codemirror_mode": {
    "name": "ipython",
    "version": 3
   },
   "file_extension": ".py",
   "mimetype": "text/x-python",
   "name": "python",
   "nbconvert_exporter": "python",
   "pygments_lexer": "ipython3",
   "version": "3.9.13"
  }
 },
 "nbformat": 4,
 "nbformat_minor": 5
}
