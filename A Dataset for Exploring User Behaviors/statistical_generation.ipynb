{
 "cells": [
  {
   "cell_type": "code",
   "execution_count": 1,
   "id": "initial_id",
   "metadata": {
    "collapsed": true,
    "ExecuteTime": {
     "end_time": "2024-02-29T15:52:55.610196Z",
     "start_time": "2024-02-29T15:52:53.133448Z"
    }
   },
   "outputs": [],
   "source": [
    "import numpy as np\n",
    "import pandas as pd\n",
    "import cv2\n",
    "import matplotlib.pyplot as plt\n",
    "from scipy.spatial.transform import Rotation\n",
    "from sensor_projection_utils import *\n",
    "from datetime import  datetime\n",
    "import os\n",
    "import matplotlib.pyplot as plt"
   ]
  },
  {
   "cell_type": "code",
   "execution_count": 2,
   "outputs": [],
   "source": [
    "def video_frames_value_matrix(video_number,frames_range,data_type='X'):\n",
    "    \n",
    "    \n",
    "    \n",
    "    \n",
    "    column_names = [f\"U{i}.{data_type}\" for i in range(1, 49)]\n",
    "\n",
    "    # Create an empty DataFrame with specified columns\n",
    "    matrix = pd.DataFrame(columns=column_names)\n",
    "\n",
    "    # Add the index column \"Frame.No\" with integer values\n",
    "    matrix.index.name = 'Frame.No'\n",
    "\n",
    "    \n",
    "    f1 = frames_range[0]\n",
    "    f2 = frames_range[0] \n",
    "    # Determine the number of rows based on frames_range\n",
    "    num_rows = frames_range[1] - frames_range[0] + 1\n",
    "    \n",
    "    \n",
    "     # Iterate through user folders\n",
    "    for user_number in range(1, 49):\n",
    "        folder_path = f\"./{user_number}/\"  # Update this path\n",
    "        \n",
    "        # Check if folder exists\n",
    "        if os.path.exists(folder_path):\n",
    "            csv_path = os.path.join(folder_path, f\"video_{video_number}-projection.csv\")\n",
    "            # Check if CSV file exists\n",
    "            if os.path.exists(csv_path):\n",
    "                # Read CSV file\n",
    "                df = pd.read_csv(csv_path)\n",
    "                df.drop_duplicates(subset=['Frame.No'], inplace=True)\n",
    "                trunc_df = df.loc[(df['Frame.No'] >= frames_range[0]) & (df['Frame.No'] <= frames_range[1]), ['Frame.No', data_type]]\n",
    "                matrix[f'U{user_number}.X'] = trunc_df.set_index('Frame.No')[data_type]\n",
    "    \n",
    "    ###preprocessing \n",
    "    matrix = matrix.fillna(method='ffill')\n",
    "    matrix['Mean'] = matrix.mean(axis=1)\n",
    "    matrix['Std_Dev'] = matrix.std(axis=1)\n",
    "    return matrix"
   ],
   "metadata": {
    "collapsed": false,
    "ExecuteTime": {
     "end_time": "2024-02-29T15:52:55.633198700Z",
     "start_time": "2024-02-29T15:52:55.614196600Z"
    }
   },
   "id": "66c2f1454fed65a1"
  },
  {
   "cell_type": "code",
   "execution_count": 4,
   "outputs": [],
   "source": [
    "mat1_onemin_x = video_frames_value_matrix(1,[1,1800],data_type='X')\n"
   ],
   "metadata": {
    "collapsed": false,
    "ExecuteTime": {
     "end_time": "2024-02-29T15:54:21.758141400Z",
     "start_time": "2024-02-29T15:54:20.101559800Z"
    }
   },
   "id": "961602788e87a813"
  },
  {
   "cell_type": "code",
   "execution_count": 5,
   "outputs": [
    {
     "data": {
      "text/plain": "              U1.X      U2.X      U3.X      U4.X      U5.X      U6.X  \\\nFrame.No                                                               \n1         0.644603  1.003681  0.948804  0.956895  0.389074  0.726045   \n2         0.644587  1.003643  0.948089  0.954611  0.389074  0.725722   \n3         0.644587  1.003863  0.947893  0.953434  0.389074  0.725381   \n4         0.644581  1.003643  0.947884  0.926970  0.409882  0.725398   \n5         0.644576  1.003643  0.948326  0.952044  0.389361  0.725385   \n...            ...       ...       ...       ...       ...       ...   \n1796      0.300606  0.461218  0.528331  0.533839  0.297308  0.329153   \n1797      0.300606  0.459591  0.526768  0.533826  0.297308  0.329153   \n1798      0.300541  0.458718  0.525835  0.533578  0.297600  0.328860   \n1799      0.300502  0.457371  0.524194  0.533378  0.297892  0.328860   \n1800      0.300502  0.456665  0.523949  0.533378  0.298208  0.328860   \n\n              U7.X      U8.X      U9.X     U10.X  ...     U41.X     U42.X  \\\nFrame.No                                          ...                       \n1         0.269375  0.460864  0.517021  0.369413  ...  0.777438  0.741573   \n2         0.270309  0.460864  0.516999  0.369413  ...  0.797238  0.741573   \n3         0.271533  0.460864  0.516991  0.369434  ...  0.778098  0.741573   \n4         0.268896  0.460864  0.516542  0.369413  ...  0.780463  0.741824   \n5         0.272482  0.460864  0.516047  0.369729  ...  0.780848  0.741231   \n...            ...       ...       ...       ...  ...       ...       ...   \n1796      0.527314  0.350732  0.279119  0.291221  ...  0.371148  0.375104   \n1797      0.527314  0.348349  0.278446  0.291782  ...  0.371148  0.375458   \n1798      0.524805  0.347288  0.278498  0.291782  ...  0.371148  0.375779   \n1799      0.521606  0.347288  0.278602  0.292236  ...  0.371208  0.376022   \n1800      0.521040  0.345854  0.278336  0.292395  ...  0.371208  0.376207   \n\n             U43.X     U44.X     U45.X     U46.X     U47.X     U48.X  \\\nFrame.No                                                               \n1         0.308448  0.773259  0.531438  1.226232  1.023273  1.239742   \n2         0.308448  0.772289  0.531902  1.244445  1.023067  1.239744   \n3         0.308177  0.772937  0.531826  1.226232  1.022840  1.239744   \n4         0.311768  0.772944  0.531846  1.226193  1.022853  1.239744   \n5         0.308539  0.772616  0.531846  1.226519  1.022866  1.239744   \n...            ...       ...       ...       ...       ...       ...   \n1796      0.338738  0.306442  0.443555  0.278949  0.288925  0.316423   \n1797      0.339583  0.306104  0.441929  0.280193  0.288706  0.316423   \n1798      0.341482  0.306104  0.440754  0.281480  0.288571  0.316728   \n1799      0.343377  0.306319  0.440754  0.284214  0.288571  0.316728   \n1800      0.343962  0.306319  0.436481  0.285378  0.288260  0.316728   \n\n              Mean   Std_Dev  \nFrame.No                      \n1         0.734093  0.283696  \n2         0.734778  0.284248  \n3         0.734037  0.283533  \n4         0.734232  0.282479  \n5         0.734094  0.283504  \n...            ...       ...  \n1796      0.394218  0.157131  \n1797      0.394741  0.158332  \n1798      0.394929  0.158920  \n1799      0.395321  0.159831  \n1800      0.395413  0.160410  \n\n[1724 rows x 50 columns]",
      "text/html": "<div>\n<style scoped>\n    .dataframe tbody tr th:only-of-type {\n        vertical-align: middle;\n    }\n\n    .dataframe tbody tr th {\n        vertical-align: top;\n    }\n\n    .dataframe thead th {\n        text-align: right;\n    }\n</style>\n<table border=\"1\" class=\"dataframe\">\n  <thead>\n    <tr style=\"text-align: right;\">\n      <th></th>\n      <th>U1.X</th>\n      <th>U2.X</th>\n      <th>U3.X</th>\n      <th>U4.X</th>\n      <th>U5.X</th>\n      <th>U6.X</th>\n      <th>U7.X</th>\n      <th>U8.X</th>\n      <th>U9.X</th>\n      <th>U10.X</th>\n      <th>...</th>\n      <th>U41.X</th>\n      <th>U42.X</th>\n      <th>U43.X</th>\n      <th>U44.X</th>\n      <th>U45.X</th>\n      <th>U46.X</th>\n      <th>U47.X</th>\n      <th>U48.X</th>\n      <th>Mean</th>\n      <th>Std_Dev</th>\n    </tr>\n    <tr>\n      <th>Frame.No</th>\n      <th></th>\n      <th></th>\n      <th></th>\n      <th></th>\n      <th></th>\n      <th></th>\n      <th></th>\n      <th></th>\n      <th></th>\n      <th></th>\n      <th></th>\n      <th></th>\n      <th></th>\n      <th></th>\n      <th></th>\n      <th></th>\n      <th></th>\n      <th></th>\n      <th></th>\n      <th></th>\n      <th></th>\n    </tr>\n  </thead>\n  <tbody>\n    <tr>\n      <th>1</th>\n      <td>0.644603</td>\n      <td>1.003681</td>\n      <td>0.948804</td>\n      <td>0.956895</td>\n      <td>0.389074</td>\n      <td>0.726045</td>\n      <td>0.269375</td>\n      <td>0.460864</td>\n      <td>0.517021</td>\n      <td>0.369413</td>\n      <td>...</td>\n      <td>0.777438</td>\n      <td>0.741573</td>\n      <td>0.308448</td>\n      <td>0.773259</td>\n      <td>0.531438</td>\n      <td>1.226232</td>\n      <td>1.023273</td>\n      <td>1.239742</td>\n      <td>0.734093</td>\n      <td>0.283696</td>\n    </tr>\n    <tr>\n      <th>2</th>\n      <td>0.644587</td>\n      <td>1.003643</td>\n      <td>0.948089</td>\n      <td>0.954611</td>\n      <td>0.389074</td>\n      <td>0.725722</td>\n      <td>0.270309</td>\n      <td>0.460864</td>\n      <td>0.516999</td>\n      <td>0.369413</td>\n      <td>...</td>\n      <td>0.797238</td>\n      <td>0.741573</td>\n      <td>0.308448</td>\n      <td>0.772289</td>\n      <td>0.531902</td>\n      <td>1.244445</td>\n      <td>1.023067</td>\n      <td>1.239744</td>\n      <td>0.734778</td>\n      <td>0.284248</td>\n    </tr>\n    <tr>\n      <th>3</th>\n      <td>0.644587</td>\n      <td>1.003863</td>\n      <td>0.947893</td>\n      <td>0.953434</td>\n      <td>0.389074</td>\n      <td>0.725381</td>\n      <td>0.271533</td>\n      <td>0.460864</td>\n      <td>0.516991</td>\n      <td>0.369434</td>\n      <td>...</td>\n      <td>0.778098</td>\n      <td>0.741573</td>\n      <td>0.308177</td>\n      <td>0.772937</td>\n      <td>0.531826</td>\n      <td>1.226232</td>\n      <td>1.022840</td>\n      <td>1.239744</td>\n      <td>0.734037</td>\n      <td>0.283533</td>\n    </tr>\n    <tr>\n      <th>4</th>\n      <td>0.644581</td>\n      <td>1.003643</td>\n      <td>0.947884</td>\n      <td>0.926970</td>\n      <td>0.409882</td>\n      <td>0.725398</td>\n      <td>0.268896</td>\n      <td>0.460864</td>\n      <td>0.516542</td>\n      <td>0.369413</td>\n      <td>...</td>\n      <td>0.780463</td>\n      <td>0.741824</td>\n      <td>0.311768</td>\n      <td>0.772944</td>\n      <td>0.531846</td>\n      <td>1.226193</td>\n      <td>1.022853</td>\n      <td>1.239744</td>\n      <td>0.734232</td>\n      <td>0.282479</td>\n    </tr>\n    <tr>\n      <th>5</th>\n      <td>0.644576</td>\n      <td>1.003643</td>\n      <td>0.948326</td>\n      <td>0.952044</td>\n      <td>0.389361</td>\n      <td>0.725385</td>\n      <td>0.272482</td>\n      <td>0.460864</td>\n      <td>0.516047</td>\n      <td>0.369729</td>\n      <td>...</td>\n      <td>0.780848</td>\n      <td>0.741231</td>\n      <td>0.308539</td>\n      <td>0.772616</td>\n      <td>0.531846</td>\n      <td>1.226519</td>\n      <td>1.022866</td>\n      <td>1.239744</td>\n      <td>0.734094</td>\n      <td>0.283504</td>\n    </tr>\n    <tr>\n      <th>...</th>\n      <td>...</td>\n      <td>...</td>\n      <td>...</td>\n      <td>...</td>\n      <td>...</td>\n      <td>...</td>\n      <td>...</td>\n      <td>...</td>\n      <td>...</td>\n      <td>...</td>\n      <td>...</td>\n      <td>...</td>\n      <td>...</td>\n      <td>...</td>\n      <td>...</td>\n      <td>...</td>\n      <td>...</td>\n      <td>...</td>\n      <td>...</td>\n      <td>...</td>\n      <td>...</td>\n    </tr>\n    <tr>\n      <th>1796</th>\n      <td>0.300606</td>\n      <td>0.461218</td>\n      <td>0.528331</td>\n      <td>0.533839</td>\n      <td>0.297308</td>\n      <td>0.329153</td>\n      <td>0.527314</td>\n      <td>0.350732</td>\n      <td>0.279119</td>\n      <td>0.291221</td>\n      <td>...</td>\n      <td>0.371148</td>\n      <td>0.375104</td>\n      <td>0.338738</td>\n      <td>0.306442</td>\n      <td>0.443555</td>\n      <td>0.278949</td>\n      <td>0.288925</td>\n      <td>0.316423</td>\n      <td>0.394218</td>\n      <td>0.157131</td>\n    </tr>\n    <tr>\n      <th>1797</th>\n      <td>0.300606</td>\n      <td>0.459591</td>\n      <td>0.526768</td>\n      <td>0.533826</td>\n      <td>0.297308</td>\n      <td>0.329153</td>\n      <td>0.527314</td>\n      <td>0.348349</td>\n      <td>0.278446</td>\n      <td>0.291782</td>\n      <td>...</td>\n      <td>0.371148</td>\n      <td>0.375458</td>\n      <td>0.339583</td>\n      <td>0.306104</td>\n      <td>0.441929</td>\n      <td>0.280193</td>\n      <td>0.288706</td>\n      <td>0.316423</td>\n      <td>0.394741</td>\n      <td>0.158332</td>\n    </tr>\n    <tr>\n      <th>1798</th>\n      <td>0.300541</td>\n      <td>0.458718</td>\n      <td>0.525835</td>\n      <td>0.533578</td>\n      <td>0.297600</td>\n      <td>0.328860</td>\n      <td>0.524805</td>\n      <td>0.347288</td>\n      <td>0.278498</td>\n      <td>0.291782</td>\n      <td>...</td>\n      <td>0.371148</td>\n      <td>0.375779</td>\n      <td>0.341482</td>\n      <td>0.306104</td>\n      <td>0.440754</td>\n      <td>0.281480</td>\n      <td>0.288571</td>\n      <td>0.316728</td>\n      <td>0.394929</td>\n      <td>0.158920</td>\n    </tr>\n    <tr>\n      <th>1799</th>\n      <td>0.300502</td>\n      <td>0.457371</td>\n      <td>0.524194</td>\n      <td>0.533378</td>\n      <td>0.297892</td>\n      <td>0.328860</td>\n      <td>0.521606</td>\n      <td>0.347288</td>\n      <td>0.278602</td>\n      <td>0.292236</td>\n      <td>...</td>\n      <td>0.371208</td>\n      <td>0.376022</td>\n      <td>0.343377</td>\n      <td>0.306319</td>\n      <td>0.440754</td>\n      <td>0.284214</td>\n      <td>0.288571</td>\n      <td>0.316728</td>\n      <td>0.395321</td>\n      <td>0.159831</td>\n    </tr>\n    <tr>\n      <th>1800</th>\n      <td>0.300502</td>\n      <td>0.456665</td>\n      <td>0.523949</td>\n      <td>0.533378</td>\n      <td>0.298208</td>\n      <td>0.328860</td>\n      <td>0.521040</td>\n      <td>0.345854</td>\n      <td>0.278336</td>\n      <td>0.292395</td>\n      <td>...</td>\n      <td>0.371208</td>\n      <td>0.376207</td>\n      <td>0.343962</td>\n      <td>0.306319</td>\n      <td>0.436481</td>\n      <td>0.285378</td>\n      <td>0.288260</td>\n      <td>0.316728</td>\n      <td>0.395413</td>\n      <td>0.160410</td>\n    </tr>\n  </tbody>\n</table>\n<p>1724 rows × 50 columns</p>\n</div>"
     },
     "execution_count": 5,
     "metadata": {},
     "output_type": "execute_result"
    }
   ],
   "source": [
    "mat1_onemin_x"
   ],
   "metadata": {
    "collapsed": false,
    "ExecuteTime": {
     "end_time": "2024-02-29T15:54:23.308030400Z",
     "start_time": "2024-02-29T15:54:23.267030700Z"
    }
   },
   "id": "d8fd10cb2522f1c2"
  },
  {
   "cell_type": "code",
   "execution_count": 6,
   "outputs": [],
   "source": [
    "def matrix_variations(df):\n",
    "    # Initialize an empty DataFrame to store differences\n",
    "    df = df.drop(columns=['Mean','Std_Dev'])\n",
    "    diff_df = pd.DataFrame(index=[f'{i}-{i+1}' for i in range(1, len(df))], columns=df.columns)\n",
    "\n",
    "    # Iterate over rows\n",
    "    for i in range(1, len(df)):\n",
    "        # Calculate differences between consecutive rows\n",
    "        row_diff = df.iloc[i] - df.iloc[i - 1]\n",
    "        \n",
    "        # Store differences in the new DataFrame\n",
    "        diff_df.iloc[i - 1] = row_diff.values  # Include all columns\n",
    "    \n",
    "    diff_df['Mean'] = diff_df.mean(axis=1)\n",
    "    diff_df['Std_Dev'] = diff_df.std(axis=1)\n",
    "        \n",
    "    return diff_df\n"
   ],
   "metadata": {
    "collapsed": false,
    "ExecuteTime": {
     "end_time": "2024-02-29T15:54:32.596012600Z",
     "start_time": "2024-02-29T15:54:32.540739300Z"
    }
   },
   "id": "c64601e1e42434a0"
  },
  {
   "cell_type": "code",
   "execution_count": 7,
   "outputs": [
    {
     "data": {
      "text/plain": "               U1.X      U2.X      U3.X      U4.X      U5.X      U6.X  \\\n1-2       -0.000016 -0.000038 -0.000715 -0.002284       0.0 -0.000324   \n2-3             0.0   0.00022 -0.000196 -0.001177       0.0 -0.000341   \n3-4       -0.000006  -0.00022  -0.00001 -0.026463  0.020808  0.000018   \n4-5       -0.000005       0.0  0.000442  0.025073 -0.020521 -0.000013   \n5-6         0.00029       0.0 -0.058002 -0.027397 -0.000063       0.0   \n...             ...       ...       ...       ...       ...       ...   \n1719-1720 -0.000039 -0.000827 -0.000895       0.0  0.000278       0.0   \n1720-1721       0.0 -0.001627 -0.001563 -0.000013       0.0       0.0   \n1721-1722 -0.000065 -0.000873 -0.000933 -0.000248  0.000292 -0.000292   \n1722-1723 -0.000039 -0.001347 -0.001642   -0.0002  0.000292       0.0   \n1723-1724       0.0 -0.000706 -0.000245       0.0  0.000316       0.0   \n\n               U7.X      U8.X      U9.X     U10.X  ...     U41.X     U42.X  \\\n1-2        0.000934       0.0 -0.000022       0.0  ...    0.0198       0.0   \n2-3        0.001224       0.0 -0.000008   0.00002  ... -0.019141       0.0   \n3-4       -0.002637       0.0 -0.000449  -0.00002  ...  0.002366  0.000251   \n4-5        0.003586       0.0 -0.000494  0.000316  ...  0.000385 -0.000593   \n5-6         0.00092 -0.000251 -0.016985  0.029841  ...  0.000723       0.0   \n...             ...       ...       ...       ...  ...       ...       ...   \n1719-1720   -0.0015  -0.00117  0.000022  0.000272  ... -0.000018  0.000073   \n1720-1721       0.0 -0.002382 -0.000674  0.000561  ...       0.0  0.000354   \n1721-1722 -0.002509 -0.001061  0.000053       0.0  ...       0.0  0.000321   \n1722-1723 -0.003199       0.0  0.000104  0.000454  ...  0.000059  0.000243   \n1723-1724 -0.000566 -0.001434 -0.000266  0.000159  ...       0.0  0.000185   \n\n              U43.X     U44.X     U45.X     U46.X     U47.X     U48.X  \\\n1-2             0.0  -0.00097  0.000464  0.018213 -0.000206  0.000002   \n2-3       -0.000271  0.000649 -0.000076 -0.018213 -0.000228       0.0   \n3-4        0.003591  0.000006  0.000019 -0.000039  0.000013       0.0   \n4-5       -0.003229 -0.000328       0.0  0.000326  0.000013       0.0   \n5-6       -0.000362       0.0  0.000057  0.000287 -0.043798 -0.000319   \n...             ...       ...       ...       ...       ...       ...   \n1719-1720  0.001355 -0.000127 -0.002576  0.001206 -0.000042       0.0   \n1720-1721  0.000845 -0.000338 -0.001626  0.001244  -0.00022       0.0   \n1721-1722  0.001899       0.0 -0.001174  0.001287 -0.000134  0.000305   \n1722-1723  0.001895  0.000215       0.0  0.002734       0.0       0.0   \n1723-1724  0.000585       0.0 -0.004274  0.001165 -0.000311       0.0   \n\n               Mean   Std_Dev  \n1-2        0.000684  0.004249  \n2-3       -0.000741  0.004163  \n3-4        0.000196  0.005251  \n4-5       -0.000138  0.005091  \n5-6       -0.001787  0.013510  \n...             ...       ...  \n1719-1720  0.000340  0.001547  \n1720-1721  0.000523  0.002024  \n1721-1722  0.000188  0.001466  \n1722-1723  0.000393  0.002418  \n1723-1724  0.000092  0.001281  \n\n[1723 rows x 50 columns]",
      "text/html": "<div>\n<style scoped>\n    .dataframe tbody tr th:only-of-type {\n        vertical-align: middle;\n    }\n\n    .dataframe tbody tr th {\n        vertical-align: top;\n    }\n\n    .dataframe thead th {\n        text-align: right;\n    }\n</style>\n<table border=\"1\" class=\"dataframe\">\n  <thead>\n    <tr style=\"text-align: right;\">\n      <th></th>\n      <th>U1.X</th>\n      <th>U2.X</th>\n      <th>U3.X</th>\n      <th>U4.X</th>\n      <th>U5.X</th>\n      <th>U6.X</th>\n      <th>U7.X</th>\n      <th>U8.X</th>\n      <th>U9.X</th>\n      <th>U10.X</th>\n      <th>...</th>\n      <th>U41.X</th>\n      <th>U42.X</th>\n      <th>U43.X</th>\n      <th>U44.X</th>\n      <th>U45.X</th>\n      <th>U46.X</th>\n      <th>U47.X</th>\n      <th>U48.X</th>\n      <th>Mean</th>\n      <th>Std_Dev</th>\n    </tr>\n  </thead>\n  <tbody>\n    <tr>\n      <th>1-2</th>\n      <td>-0.000016</td>\n      <td>-0.000038</td>\n      <td>-0.000715</td>\n      <td>-0.002284</td>\n      <td>0.0</td>\n      <td>-0.000324</td>\n      <td>0.000934</td>\n      <td>0.0</td>\n      <td>-0.000022</td>\n      <td>0.0</td>\n      <td>...</td>\n      <td>0.0198</td>\n      <td>0.0</td>\n      <td>0.0</td>\n      <td>-0.00097</td>\n      <td>0.000464</td>\n      <td>0.018213</td>\n      <td>-0.000206</td>\n      <td>0.000002</td>\n      <td>0.000684</td>\n      <td>0.004249</td>\n    </tr>\n    <tr>\n      <th>2-3</th>\n      <td>0.0</td>\n      <td>0.00022</td>\n      <td>-0.000196</td>\n      <td>-0.001177</td>\n      <td>0.0</td>\n      <td>-0.000341</td>\n      <td>0.001224</td>\n      <td>0.0</td>\n      <td>-0.000008</td>\n      <td>0.00002</td>\n      <td>...</td>\n      <td>-0.019141</td>\n      <td>0.0</td>\n      <td>-0.000271</td>\n      <td>0.000649</td>\n      <td>-0.000076</td>\n      <td>-0.018213</td>\n      <td>-0.000228</td>\n      <td>0.0</td>\n      <td>-0.000741</td>\n      <td>0.004163</td>\n    </tr>\n    <tr>\n      <th>3-4</th>\n      <td>-0.000006</td>\n      <td>-0.00022</td>\n      <td>-0.00001</td>\n      <td>-0.026463</td>\n      <td>0.020808</td>\n      <td>0.000018</td>\n      <td>-0.002637</td>\n      <td>0.0</td>\n      <td>-0.000449</td>\n      <td>-0.00002</td>\n      <td>...</td>\n      <td>0.002366</td>\n      <td>0.000251</td>\n      <td>0.003591</td>\n      <td>0.000006</td>\n      <td>0.000019</td>\n      <td>-0.000039</td>\n      <td>0.000013</td>\n      <td>0.0</td>\n      <td>0.000196</td>\n      <td>0.005251</td>\n    </tr>\n    <tr>\n      <th>4-5</th>\n      <td>-0.000005</td>\n      <td>0.0</td>\n      <td>0.000442</td>\n      <td>0.025073</td>\n      <td>-0.020521</td>\n      <td>-0.000013</td>\n      <td>0.003586</td>\n      <td>0.0</td>\n      <td>-0.000494</td>\n      <td>0.000316</td>\n      <td>...</td>\n      <td>0.000385</td>\n      <td>-0.000593</td>\n      <td>-0.003229</td>\n      <td>-0.000328</td>\n      <td>0.0</td>\n      <td>0.000326</td>\n      <td>0.000013</td>\n      <td>0.0</td>\n      <td>-0.000138</td>\n      <td>0.005091</td>\n    </tr>\n    <tr>\n      <th>5-6</th>\n      <td>0.00029</td>\n      <td>0.0</td>\n      <td>-0.058002</td>\n      <td>-0.027397</td>\n      <td>-0.000063</td>\n      <td>0.0</td>\n      <td>0.00092</td>\n      <td>-0.000251</td>\n      <td>-0.016985</td>\n      <td>0.029841</td>\n      <td>...</td>\n      <td>0.000723</td>\n      <td>0.0</td>\n      <td>-0.000362</td>\n      <td>0.0</td>\n      <td>0.000057</td>\n      <td>0.000287</td>\n      <td>-0.043798</td>\n      <td>-0.000319</td>\n      <td>-0.001787</td>\n      <td>0.013510</td>\n    </tr>\n    <tr>\n      <th>...</th>\n      <td>...</td>\n      <td>...</td>\n      <td>...</td>\n      <td>...</td>\n      <td>...</td>\n      <td>...</td>\n      <td>...</td>\n      <td>...</td>\n      <td>...</td>\n      <td>...</td>\n      <td>...</td>\n      <td>...</td>\n      <td>...</td>\n      <td>...</td>\n      <td>...</td>\n      <td>...</td>\n      <td>...</td>\n      <td>...</td>\n      <td>...</td>\n      <td>...</td>\n      <td>...</td>\n    </tr>\n    <tr>\n      <th>1719-1720</th>\n      <td>-0.000039</td>\n      <td>-0.000827</td>\n      <td>-0.000895</td>\n      <td>0.0</td>\n      <td>0.000278</td>\n      <td>0.0</td>\n      <td>-0.0015</td>\n      <td>-0.00117</td>\n      <td>0.000022</td>\n      <td>0.000272</td>\n      <td>...</td>\n      <td>-0.000018</td>\n      <td>0.000073</td>\n      <td>0.001355</td>\n      <td>-0.000127</td>\n      <td>-0.002576</td>\n      <td>0.001206</td>\n      <td>-0.000042</td>\n      <td>0.0</td>\n      <td>0.000340</td>\n      <td>0.001547</td>\n    </tr>\n    <tr>\n      <th>1720-1721</th>\n      <td>0.0</td>\n      <td>-0.001627</td>\n      <td>-0.001563</td>\n      <td>-0.000013</td>\n      <td>0.0</td>\n      <td>0.0</td>\n      <td>0.0</td>\n      <td>-0.002382</td>\n      <td>-0.000674</td>\n      <td>0.000561</td>\n      <td>...</td>\n      <td>0.0</td>\n      <td>0.000354</td>\n      <td>0.000845</td>\n      <td>-0.000338</td>\n      <td>-0.001626</td>\n      <td>0.001244</td>\n      <td>-0.00022</td>\n      <td>0.0</td>\n      <td>0.000523</td>\n      <td>0.002024</td>\n    </tr>\n    <tr>\n      <th>1721-1722</th>\n      <td>-0.000065</td>\n      <td>-0.000873</td>\n      <td>-0.000933</td>\n      <td>-0.000248</td>\n      <td>0.000292</td>\n      <td>-0.000292</td>\n      <td>-0.002509</td>\n      <td>-0.001061</td>\n      <td>0.000053</td>\n      <td>0.0</td>\n      <td>...</td>\n      <td>0.0</td>\n      <td>0.000321</td>\n      <td>0.001899</td>\n      <td>0.0</td>\n      <td>-0.001174</td>\n      <td>0.001287</td>\n      <td>-0.000134</td>\n      <td>0.000305</td>\n      <td>0.000188</td>\n      <td>0.001466</td>\n    </tr>\n    <tr>\n      <th>1722-1723</th>\n      <td>-0.000039</td>\n      <td>-0.001347</td>\n      <td>-0.001642</td>\n      <td>-0.0002</td>\n      <td>0.000292</td>\n      <td>0.0</td>\n      <td>-0.003199</td>\n      <td>0.0</td>\n      <td>0.000104</td>\n      <td>0.000454</td>\n      <td>...</td>\n      <td>0.000059</td>\n      <td>0.000243</td>\n      <td>0.001895</td>\n      <td>0.000215</td>\n      <td>0.0</td>\n      <td>0.002734</td>\n      <td>0.0</td>\n      <td>0.0</td>\n      <td>0.000393</td>\n      <td>0.002418</td>\n    </tr>\n    <tr>\n      <th>1723-1724</th>\n      <td>0.0</td>\n      <td>-0.000706</td>\n      <td>-0.000245</td>\n      <td>0.0</td>\n      <td>0.000316</td>\n      <td>0.0</td>\n      <td>-0.000566</td>\n      <td>-0.001434</td>\n      <td>-0.000266</td>\n      <td>0.000159</td>\n      <td>...</td>\n      <td>0.0</td>\n      <td>0.000185</td>\n      <td>0.000585</td>\n      <td>0.0</td>\n      <td>-0.004274</td>\n      <td>0.001165</td>\n      <td>-0.000311</td>\n      <td>0.0</td>\n      <td>0.000092</td>\n      <td>0.001281</td>\n    </tr>\n  </tbody>\n</table>\n<p>1723 rows × 50 columns</p>\n</div>"
     },
     "execution_count": 7,
     "metadata": {},
     "output_type": "execute_result"
    }
   ],
   "source": [
    "matrix_variations(mat1_onemin_x)"
   ],
   "metadata": {
    "collapsed": false,
    "ExecuteTime": {
     "end_time": "2024-02-29T15:54:47.936671400Z",
     "start_time": "2024-02-29T15:54:47.345835400Z"
    }
   },
   "id": "5f48e16b7d91bcc"
  },
  {
   "cell_type": "code",
   "execution_count": null,
   "outputs": [],
   "source": [
    "def draw_matrix(df, user_range, color_map=None):\n",
    "    \"\"\"\n",
    "    Draw Ui.X columns from DataFrame df for the specified user range.\n",
    "\n",
    "    Parameters:\n",
    "    - df: DataFrame containing the columns to be drawn.\n",
    "    - user_range: Range of user numbers to draw (e.g., (1, 10)).\n",
    "    - color_map: Dictionary mapping user numbers to colors (optional).\n",
    "    \"\"\"\n",
    "    # Extract the relevant columns for the specified user range\n",
    "    user_columns = [f'U{user}.X' for user in range(user_range[0], user_range[1] + 1)]\n",
    "    df_subset = df[user_columns]\n",
    "\n",
    "    # Set up colors for the plots\n",
    "    if color_map is None:\n",
    "        color_map = {f'U{user}.X': plt.cm.tab10(i) for i, user in enumerate(range(user_range[0], user_range[1] + 1))}\n",
    "\n",
    "    # Plot each column with specified color\n",
    "    for column in df_subset.columns:\n",
    "        plt.plot(df.index, df_subset[column], label=column, color=color_map[column])\n",
    "\n",
    "    # Add labels and legend\n",
    "    plt.xlabel('Frame.No')\n",
    "    plt.ylabel('Value X')\n",
    "    plt.legend(title='User', bbox_to_anchor=(1.05, 1), loc='upper left')\n",
    "\n",
    "    # Show the plot\n",
    "    plt.show()"
   ],
   "metadata": {
    "collapsed": false
   },
   "id": "68cd843621c26804"
  }
 ],
 "metadata": {
  "kernelspec": {
   "display_name": "Python 3",
   "language": "python",
   "name": "python3"
  },
  "language_info": {
   "codemirror_mode": {
    "name": "ipython",
    "version": 2
   },
   "file_extension": ".py",
   "mimetype": "text/x-python",
   "name": "python",
   "nbconvert_exporter": "python",
   "pygments_lexer": "ipython2",
   "version": "2.7.6"
  }
 },
 "nbformat": 4,
 "nbformat_minor": 5
}
